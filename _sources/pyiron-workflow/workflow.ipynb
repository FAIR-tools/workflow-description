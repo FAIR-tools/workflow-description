{
 "cells": [
  {
   "cell_type": "markdown",
   "id": "a96a67db-6162-44a3-9cbe-a4f26e0f8df8",
   "metadata": {},
   "source": [
    "# pyiron workflow"
   ]
  },
  {
   "cell_type": "markdown",
   "id": "79924c8f-86f8-402a-97b9-f8e0ef9082c2",
   "metadata": {},
   "source": [
    "This code is in development stage, and will change considerably.."
   ]
  },
  {
   "cell_type": "code",
   "execution_count": null,
   "id": "60bdf74d-6cef-4e1f-b70e-dc3d1f24ced2",
   "metadata": {},
   "outputs": [],
   "source": [
    "from pyiron_contrib.workflow import Workflow\n",
    "from pyiron import Project"
   ]
  },
  {
   "cell_type": "code",
   "execution_count": null,
   "id": "c4d5841b-9210-45cb-a63c-7c42e88e1674",
   "metadata": {},
   "outputs": [],
   "source": [
    "@Workflow.wrap_as.single_value_node(update_on_instantiation=False)\n",
    "def calculate_elastic_matrix(\n",
    "    structure,\n",
    "):\n",
    "    pr = Project(\"elastic_constant\")\n",
    "    \n",
    "    job = pr.create.job.Lammps(job_name=\"lammps_job\")\n",
    "    job.structure = structure\n",
    "    job.potential = '2009--Mendelev-M-I--Al-Mg--LAMMPS--ipr1'\n",
    "    job.calc_minimize(pressure=0)\n",
    "    \n",
    "    elastic_job = job.create_job(pr.job_type.ElasticTensor, \"elastic_job\")\n",
    "    elastic_job.input[\"eps_range\"] = 0.001\n",
    "    elastic_job.run()\n",
    "    \n",
    "    elastic_matrix = elastic_job[\"output/elastic_tensor\"]\n",
    "    \n",
    "    pr.remove_jobs(silently=True, recursive=True)\n",
    "    pr.remove(enable=True)\n",
    "    \n",
    "    return elastic_matrix"
   ]
  },
  {
   "cell_type": "code",
   "execution_count": null,
   "id": "e49090bf-1c1b-4d11-88c0-32474ee8df10",
   "metadata": {},
   "outputs": [],
   "source": [
    "wf = Workflow(\"youngs_modulus\")\n",
    "wf.structure = wf.add.atomistics.BulkStructure(cubic=True)\n",
    "wf.calc = calculate_elastic_matrix(wf.structure, project_name=wf.label)"
   ]
  },
  {
   "cell_type": "code",
   "execution_count": null,
   "id": "c7f1a00b-d12e-4404-842d-4dc872bf466d",
   "metadata": {
    "scrolled": true
   },
   "outputs": [],
   "source": [
    "wf(structure_element=\"Al\")"
   ]
  },
  {
   "cell_type": "code",
   "execution_count": null,
   "id": "1f3195de-2fb4-44df-9d1f-3b8cee32fb46",
   "metadata": {},
   "outputs": [],
   "source": [
    "wf.outputs.calc_elastic_matrix"
   ]
  }
 ],
 "metadata": {
  "kernelspec": {
   "display_name": "Python 3 (ipykernel)",
   "language": "python",
   "name": "python3"
  },
  "language_info": {
   "codemirror_mode": {
    "name": "ipython",
    "version": 3
   },
   "file_extension": ".py",
   "mimetype": "text/x-python",
   "name": "python",
   "nbconvert_exporter": "python",
   "pygments_lexer": "ipython3",
   "version": "3.10.12"
  }
 },
 "nbformat": 4,
 "nbformat_minor": 5
}
