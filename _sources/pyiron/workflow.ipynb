{
 "cells": [
  {
   "cell_type": "markdown",
   "id": "f2e8de81-5d00-41d8-a8e4-0f6c101872cc",
   "metadata": {},
   "source": [
    "# pyiron"
   ]
  },
  {
   "cell_type": "code",
   "execution_count": 8,
   "id": "0c181f7c-95a2-4d86-89c6-a3c8f5e56085",
   "metadata": {},
   "outputs": [],
   "source": [
    "import matplotlib.pyplot as plt\n",
    "import numpy as np\n",
    "import random\n",
    "from pyiron import Project"
   ]
  },
  {
   "cell_type": "code",
   "execution_count": 9,
   "id": "f8dcd1fe-ec25-42cd-a079-ca221386f7ca",
   "metadata": {},
   "outputs": [],
   "source": [
    "def create_structure(element=None):\n",
    "    \"\"\"\n",
    "    Create an alloy structure\n",
    "    \"\"\"\n",
    "    pr = Project(\"elastic_constant\")\n",
    "    structure = pr.create.structure.bulk(element, \n",
    "                                         cubic=True)\n",
    "    return structure"
   ]
  },
  {
   "cell_type": "code",
   "execution_count": 10,
   "id": "e5062051-36dd-4ecc-a1a9-30d57f326085",
   "metadata": {},
   "outputs": [],
   "source": [
    "def calculate_elastic_matrix(structure=None,\n",
    "                            potential='2009--Mendelev-M-I--Al-Mg--LAMMPS--ipr1',\n",
    "                            eps_range=0.001):\n",
    "    pr = Project('elastic_constant')\n",
    "    job = pr.create.job.Lammps(job_name=\"lammps_job\")\n",
    "    job.structure = structure\n",
    "    job.potential = potential\n",
    "    job.calc_minimize()\n",
    "    elastic_job = job.create_job(pr.job_type.ElasticMatrixJob, \"elastic_job\")\n",
    "    elastic_job.input[\"eps_range\"] = eps_range\n",
    "    elastic_job.run()\n",
    "    return elastic_job[\"output/elasticmatrix\"][\"C\"]"
   ]
  },
  {
   "cell_type": "code",
   "execution_count": 11,
   "id": "078569cb-ba81-489c-92f7-e713702a3c48",
   "metadata": {},
   "outputs": [],
   "source": [
    "structure = create_structure(element='Al')"
   ]
  },
  {
   "cell_type": "code",
   "execution_count": 12,
   "id": "d68b3713-8fae-4a75-bf30-defd0532f887",
   "metadata": {},
   "outputs": [
    {
     "name": "stdout",
     "output_type": "stream",
     "text": [
      "The job elastic_job was saved and received the ID: 726\n",
      "The job s_e_0 was saved and received the ID: 727\n",
      "The job s_01_e_m0_00100 was saved and received the ID: 728\n",
      "The job s_01_e_m0_00050 was saved and received the ID: 729\n",
      "The job s_01_e_0_00050 was saved and received the ID: 730\n",
      "The job s_01_e_0_00100 was saved and received the ID: 731\n",
      "The job s_08_e_m0_00100 was saved and received the ID: 732\n",
      "The job s_08_e_m0_00050 was saved and received the ID: 733\n",
      "The job s_08_e_0_00050 was saved and received the ID: 734\n",
      "The job s_08_e_0_00100 was saved and received the ID: 735\n",
      "The job s_23_e_m0_00100 was saved and received the ID: 736\n",
      "The job s_23_e_m0_00050 was saved and received the ID: 737\n",
      "The job s_23_e_0_00050 was saved and received the ID: 738\n",
      "The job s_23_e_0_00100 was saved and received the ID: 739\n"
     ]
    }
   ],
   "source": [
    "elastic_matrix = calculate_elastic_matrix(structure=structure)"
   ]
  },
  {
   "cell_type": "code",
   "execution_count": 13,
   "id": "dcc1e9d2-eaf0-4ab0-bda1-af812640f840",
   "metadata": {},
   "outputs": [
    {
     "data": {
      "text/plain": [
       "array([[105.90187899,  60.85060019,  60.85060019,   0.        ,\n",
       "          0.        ,   0.        ],\n",
       "       [ 60.85060019, 105.90187899,  60.85060019,   0.        ,\n",
       "          0.        ,   0.        ],\n",
       "       [ 60.85060019,  60.85060019, 105.90187899,   0.        ,\n",
       "          0.        ,   0.        ],\n",
       "       [  0.        ,   0.        ,   0.        ,  31.46945444,\n",
       "          0.        ,   0.        ],\n",
       "       [  0.        ,   0.        ,   0.        ,   0.        ,\n",
       "         31.46945444,   0.        ],\n",
       "       [  0.        ,   0.        ,   0.        ,   0.        ,\n",
       "          0.        ,  31.46945444]])"
      ]
     },
     "execution_count": 13,
     "metadata": {},
     "output_type": "execute_result"
    }
   ],
   "source": [
    "elastic_matrix"
   ]
  },
  {
   "cell_type": "code",
   "execution_count": null,
   "id": "9aa19df9-c921-47b4-a044-28a3557430f2",
   "metadata": {},
   "outputs": [],
   "source": []
  }
 ],
 "metadata": {
  "kernelspec": {
   "display_name": "Python 3 (ipykernel)",
   "language": "python",
   "name": "python3"
  },
  "language_info": {
   "codemirror_mode": {
    "name": "ipython",
    "version": 3
   },
   "file_extension": ".py",
   "mimetype": "text/x-python",
   "name": "python",
   "nbconvert_exporter": "python",
   "pygments_lexer": "ipython3",
   "version": "3.10.12"
  }
 },
 "nbformat": 4,
 "nbformat_minor": 5
}
