{
 "cells": [
  {
   "cell_type": "markdown",
   "id": "38dc4b6d-839f-46e0-9399-3cb05e8c5df3",
   "metadata": {},
   "source": [
    "# Nextflow"
   ]
  },
  {
   "cell_type": "markdown",
   "id": "5bc2023b-b2b3-4b51-aafc-0e4082b25108",
   "metadata": {},
   "source": [
    "The workflow can be executed by"
   ]
  },
  {
   "cell_type": "code",
   "execution_count": null,
   "id": "df4e9304-e8d6-43c3-8341-4779270cd885",
   "metadata": {},
   "outputs": [],
   "source": [
    "! nextflow run workflow.nf --with-report report.html -with-timeline timeline.html"
   ]
  },
  {
   "cell_type": "markdown",
   "id": "b641d47e-3023-4781-b86c-330ca5227af2",
   "metadata": {},
   "source": [
    "Nextflow also produces [an execution report](../_static/report.html) and [a process timeline](../_static/timeline.html). Be sure to click on the `trust html` button to view the reports."
   ]
  }
 ],
 "metadata": {
  "kernelspec": {
   "display_name": "Python 3 (ipykernel)",
   "language": "python",
   "name": "python3"
  },
  "language_info": {
   "codemirror_mode": {
    "name": "ipython",
    "version": 3
   },
   "file_extension": ".py",
   "mimetype": "text/x-python",
   "name": "python",
   "nbconvert_exporter": "python",
   "pygments_lexer": "ipython3",
   "version": "3.10.12"
  }
 },
 "nbformat": 4,
 "nbformat_minor": 5
}
