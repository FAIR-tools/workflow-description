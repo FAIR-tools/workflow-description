{
 "cells": [
  {
   "cell_type": "markdown",
   "id": "66015d35-6c29-473a-9f73-4b93da11dfe6",
   "metadata": {},
   "source": [
    "# Execute CWL workflow"
   ]
  },
  {
   "cell_type": "markdown",
   "id": "e00a7cf6-15ff-4674-818d-b03baf00ce21",
   "metadata": {},
   "source": [
    "CWL can be executed with the following command."
   ]
  },
  {
   "cell_type": "code",
   "execution_count": null,
   "id": "52d8dba7-0dc3-4e93-be30-339b6d7cb52b",
   "metadata": {},
   "outputs": [],
   "source": [
    "! cwltool --provenance prov --enable-user-provenance --enable-host-provenance workflow.cwl workflow_input.yml "
   ]
  },
  {
   "cell_type": "markdown",
   "id": "c1a6ed69-3019-47e7-897a-d5bcff570a9c",
   "metadata": {},
   "source": [
    "CWL run also produces provenance information which is stored within the folder `prov`."
   ]
  },
  {
   "cell_type": "markdown",
   "id": "c9b65d42-20fe-4bf6-b0be-fd58cf6f7098",
   "metadata": {},
   "source": [
    "Further details about the workflow and visualisation can be found in the [web viewer](https://w3id.org/cwl/view/git/a66667c1c5e8f86c348bf9053119162a7b8a7338/cwl/workflow.cwl)."
   ]
  }
 ],
 "metadata": {
  "kernelspec": {
   "display_name": "Python 3 (ipykernel)",
   "language": "python",
   "name": "python3"
  },
  "language_info": {
   "codemirror_mode": {
    "name": "ipython",
    "version": 3
   },
   "file_extension": ".py",
   "mimetype": "text/x-python",
   "name": "python",
   "nbconvert_exporter": "python",
   "pygments_lexer": "ipython3",
   "version": "3.10.12"
  }
 },
 "nbformat": 4,
 "nbformat_minor": 5
}
