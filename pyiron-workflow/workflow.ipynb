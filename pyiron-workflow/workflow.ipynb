{
 "cells": [
  {
   "cell_type": "code",
   "execution_count": 1,
   "id": "60bdf74d-6cef-4e1f-b70e-dc3d1f24ced2",
   "metadata": {},
   "outputs": [
    {
     "data": {
      "application/vnd.jupyter.widget-view+json": {
       "model_id": "ccbc776357354f2aae9f0e4cba65f839",
       "version_major": 2,
       "version_minor": 0
      },
      "text/plain": []
     },
     "metadata": {},
     "output_type": "display_data"
    }
   ],
   "source": [
    "from pyiron_contrib.workflow.function import function_node\n",
    "from pyiron_contrib.workflow.workflow import Workflow\n",
    "from pyiron_contrib.workflow.function import Function\n",
    "import matplotlib.pyplot as plt\n",
    "import numpy as np\n",
    "import random\n",
    "from pyiron import Project"
   ]
  },
  {
   "cell_type": "markdown",
   "id": "b543ea04-3cfc-4ea1-ba4c-e8a182660a8c",
   "metadata": {},
   "source": [
    "- Add a metadata file for each node step; including all possible info with DOIs\n",
    "- Workflow top-level metadata - the matwerk yaml file can be used\n",
    "- Execution metadata\n",
    "- What would go into the method section?"
   ]
  },
  {
   "cell_type": "code",
   "execution_count": 2,
   "id": "c4d5841b-9210-45cb-a63c-7c42e88e1674",
   "metadata": {},
   "outputs": [],
   "source": [
    "def create_structure(element=None):\n",
    "    \"\"\"\n",
    "    Create an alloy structure\n",
    "    \"\"\"\n",
    "    pr = Project(\"elastic_constant\")\n",
    "    structure = pr.create.structure.bulk(element, \n",
    "                                         cubic=True)\n",
    "    return structure"
   ]
  },
  {
   "cell_type": "code",
   "execution_count": 3,
   "id": "e49090bf-1c1b-4d11-88c0-32474ee8df10",
   "metadata": {},
   "outputs": [],
   "source": [
    "create_structure_node = Function(create_structure, \"structure\", \n",
    "                                 update_on_instantiation=False)"
   ]
  },
  {
   "cell_type": "code",
   "execution_count": 4,
   "id": "c7f1a00b-d12e-4404-842d-4dc872bf466d",
   "metadata": {},
   "outputs": [],
   "source": [
    "def calculate_elastic_matrix(structure=None,\n",
    "                            potential='2009--Mendelev-M-I--Al-Mg--LAMMPS--ipr1',\n",
    "                            eps_range=0.001):\n",
    "    pr = Project('elastic_constant')\n",
    "    job = pr.create.job.Lammps(job_name=\"lammps_job\")\n",
    "    job.structure = structure\n",
    "    job.potential = potential\n",
    "    job.calc_minimize()\n",
    "    elastic_job = job.create_job(pr.job_type.ElasticMatrixJob, \"elastic_job\")\n",
    "    elastic_job.input[\"eps_range\"] = eps_range\n",
    "    elastic_job.run()\n",
    "    return elastic_job[\"output/elasticmatrix\"][\"C\"]"
   ]
  },
  {
   "cell_type": "code",
   "execution_count": 5,
   "id": "1f3195de-2fb4-44df-9d1f-3b8cee32fb46",
   "metadata": {},
   "outputs": [],
   "source": [
    "elastic_matrix_node = Function(calculate_elastic_matrix, \"elastic_matrix\", \n",
    "                                 update_on_instantiation=False)"
   ]
  },
  {
   "cell_type": "code",
   "execution_count": 22,
   "id": "c07eeac7-0c36-4317-a2b2-d35f21fcfe86",
   "metadata": {},
   "outputs": [
    {
     "name": "stdout",
     "output_type": "stream",
     "text": [
      "The job elastic_job was saved and received the ID: 740\n",
      "The job s_e_0 was saved and received the ID: 741\n",
      "The job s_01_e_m0_00100 was saved and received the ID: 742\n",
      "The job s_01_e_m0_00050 was saved and received the ID: 743\n",
      "The job s_01_e_0_00050 was saved and received the ID: 744\n",
      "The job s_01_e_0_00100 was saved and received the ID: 745\n",
      "The job s_08_e_m0_00100 was saved and received the ID: 746\n",
      "The job s_08_e_m0_00050 was saved and received the ID: 747\n",
      "The job s_08_e_0_00050 was saved and received the ID: 748\n",
      "The job s_08_e_0_00100 was saved and received the ID: 749\n",
      "The job s_23_e_m0_00100 was saved and received the ID: 750\n",
      "The job s_23_e_m0_00050 was saved and received the ID: 751\n",
      "The job s_23_e_0_00050 was saved and received the ID: 752\n",
      "The job s_23_e_0_00100 was saved and received the ID: 753\n"
     ]
    },
    {
     "name": "stderr",
     "output_type": "stream",
     "text": [
      "/home/menon/miniconda3/envs/workflow-desc/lib/python3.10/site-packages/pyiron_contrib/workflow/channels.py:272: UserWarning: structure (InputData) and structure (OutputData) were not a valid connection\n",
      "  warn(\n"
     ]
    }
   ],
   "source": [
    "create_structure_node.inputs.element = 'Al'\n",
    "elastic_matrix_node.inputs.structure = create_structure_node.outputs.structure"
   ]
  },
  {
   "cell_type": "code",
   "execution_count": 25,
   "id": "0a0a616b-2587-4eb8-b971-a166bd3fb553",
   "metadata": {},
   "outputs": [
    {
     "data": {
      "text/plain": [
       "array([[105.90187899,  60.85060019,  60.85060019,   0.        ,\n",
       "          0.        ,   0.        ],\n",
       "       [ 60.85060019, 105.90187899,  60.85060019,   0.        ,\n",
       "          0.        ,   0.        ],\n",
       "       [ 60.85060019,  60.85060019, 105.90187899,   0.        ,\n",
       "          0.        ,   0.        ],\n",
       "       [  0.        ,   0.        ,   0.        ,  31.46945444,\n",
       "          0.        ,   0.        ],\n",
       "       [  0.        ,   0.        ,   0.        ,   0.        ,\n",
       "         31.46945444,   0.        ],\n",
       "       [  0.        ,   0.        ,   0.        ,   0.        ,\n",
       "          0.        ,  31.46945444]])"
      ]
     },
     "execution_count": 25,
     "metadata": {},
     "output_type": "execute_result"
    }
   ],
   "source": [
    "elastic_matrix_node.outputs.elastic_matrix.value"
   ]
  }
 ],
 "metadata": {
  "kernelspec": {
   "display_name": "Python 3 (ipykernel)",
   "language": "python",
   "name": "python3"
  },
  "language_info": {
   "codemirror_mode": {
    "name": "ipython",
    "version": 3
   },
   "file_extension": ".py",
   "mimetype": "text/x-python",
   "name": "python",
   "nbconvert_exporter": "python",
   "pygments_lexer": "ipython3",
   "version": "3.10.12"
  }
 },
 "nbformat": 4,
 "nbformat_minor": 5
}
