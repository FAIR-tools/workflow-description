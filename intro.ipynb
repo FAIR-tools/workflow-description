{
 "cells": [
  {
   "cell_type": "markdown",
   "id": "468ac970-76e5-41ef-a5aa-905a5838bf9d",
   "metadata": {},
   "source": [
    "# workflow_languages"
   ]
  },
  {
   "cell_type": "markdown",
   "id": "641beb50-d8a0-41c6-8d68-975d956d63d5",
   "metadata": {},
   "source": [
    "\n",
    "\n",
    "Compare workflow languages or specifications, and connect it to a typical pyiron workflow\n",
    "\n",
    "## Use case 1\n",
    "\n",
    "Calculate Young's modulus of Al.\n",
    "\n",
    "Molecular statics will be used for the calculation with LAMMPS as the tool.\n",
    "The interatomic potential used is the following:\n",
    "\n",
    "M.I. Mendelev, M. Asta, M.J. Rahman, and J.J. Hoyt (2009), \"Development of interatomic potentials appropriate for simulation of solid-liquid interface properties in Al-Mg alloys\", Philosophical Magazine, 89(34-36), 3269-3285. DOI: 10.1080/14786430903260727.\n",
    "\n",
    "See the implementation:\n",
    "\n",
    "- [pyiron](pyiron/workflow.ipynb)\n",
    "- [pyiron-workflow](pyiron-workflow/workflow.ipynb)\n",
    "- [Common Workflow Language](cwl/execute_cwl.ipynb)\n",
    "- [Nextflow](nextflow/execute_nextflow.ipynb)\n",
    "- [Snakemake](snakemake/execute_snakemake.ipynb)"
   ]
  }
 ],
 "metadata": {
  "kernelspec": {
   "display_name": "Python 3 (ipykernel)",
   "language": "python",
   "name": "python3"
  },
  "language_info": {
   "codemirror_mode": {
    "name": "ipython",
    "version": 3
   },
   "file_extension": ".py",
   "mimetype": "text/x-python",
   "name": "python",
   "nbconvert_exporter": "python",
   "pygments_lexer": "ipython3",
   "version": "3.10.12"
  }
 },
 "nbformat": 4,
 "nbformat_minor": 5
}
