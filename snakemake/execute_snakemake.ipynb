{
 "cells": [
  {
   "cell_type": "markdown",
   "id": "0ce8b943-48ae-4d1e-b728-27faa59e4e21",
   "metadata": {},
   "source": [
    "# Snakemake"
   ]
  },
  {
   "cell_type": "markdown",
   "id": "4f7a642e-4dea-463c-a6d7-d958f8591abc",
   "metadata": {},
   "source": [
    "Execute Snakemake by"
   ]
  },
  {
   "cell_type": "code",
   "execution_count": 3,
   "id": "6b0460f9-aad5-47ba-8145-f4e9e4ba8150",
   "metadata": {},
   "outputs": [
    {
     "name": "stdout",
     "output_type": "stream",
     "text": [
      "\u001b[33mBuilding DAG of jobs...\u001b[0m\n",
      "\u001b[33mUsing shell: /usr/bin/bash\u001b[0m\n",
      "\u001b[33mProvided cores: 1 (use --cores to define parallelism)\u001b[0m\n",
      "\u001b[33mRules claiming more threads will be scaled down.\u001b[0m\n",
      "\u001b[33mJob stats:\n",
      "job                         count\n",
      "------------------------  -------\n",
      "all                             1\n",
      "calculate_elastic_matrix        1\n",
      "create_structure                1\n",
      "total                           3\n",
      "\u001b[0m\n",
      "\u001b[33mSelect jobs to execute...\u001b[0m\n",
      "\u001b[32m\u001b[0m\n",
      "\u001b[32m[Fri Aug  4 15:54:43 2023]\u001b[0m\n",
      "\u001b[32mrule create_structure:\n",
      "    input: input.yml\n",
      "    output: structure_file.data\n",
      "    jobid: 1\n",
      "    reason: Missing output files: structure_file.data\n",
      "    resources: tmpdir=/tmp\u001b[0m\n",
      "\u001b[32m\u001b[0m\n",
      "\u001b[32m[Fri Aug  4 15:55:07 2023]\u001b[0m\n",
      "\u001b[32mFinished job 1.\u001b[0m\n",
      "\u001b[32m1 of 3 steps (33%) done\u001b[0m\n",
      "\u001b[33mSelect jobs to execute...\u001b[0m\n",
      "\u001b[32m\u001b[0m\n",
      "\u001b[32m[Fri Aug  4 15:55:07 2023]\u001b[0m\n",
      "\u001b[32mrule calculate_elastic_matrix:\n",
      "    input: structure_file.data\n",
      "    output: elastic_matrix.data\n",
      "    jobid: 2\n",
      "    reason: Missing output files: elastic_matrix.data; Input files updated by another job: structure_file.data\n",
      "    resources: tmpdir=/tmp\u001b[0m\n",
      "\u001b[32m\u001b[0m\n",
      "2023-08-04 15:55:14,276 - pyiron_log - WARNING - No HDF5 file found - remove database entry and create new job! elastic_job\n",
      "The job elastic_job was saved and received the ID: 824\n",
      "The job s_e_0 was saved and received the ID: 825\n",
      "The job s_01_e_m0_00100 was saved and received the ID: 826\n",
      "The job s_01_e_m0_00050 was saved and received the ID: 827\n",
      "The job s_01_e_0_00050 was saved and received the ID: 828\n",
      "The job s_01_e_0_00100 was saved and received the ID: 829\n",
      "The job s_08_e_m0_00100 was saved and received the ID: 830\n",
      "The job s_08_e_m0_00050 was saved and received the ID: 831\n",
      "The job s_08_e_0_00050 was saved and received the ID: 832\n",
      "The job s_08_e_0_00100 was saved and received the ID: 833\n",
      "The job s_23_e_m0_00100 was saved and received the ID: 834\n",
      "The job s_23_e_m0_00050 was saved and received the ID: 835\n",
      "The job s_23_e_0_00050 was saved and received the ID: 836\n",
      "The job s_23_e_0_00100 was saved and received the ID: 837\n",
      "\u001b[32m[Fri Aug  4 15:55:38 2023]\u001b[0m\n",
      "\u001b[32mFinished job 2.\u001b[0m\n",
      "\u001b[32m2 of 3 steps (67%) done\u001b[0m\n",
      "\u001b[33mSelect jobs to execute...\u001b[0m\n",
      "\u001b[32m\u001b[0m\n",
      "\u001b[32m[Fri Aug  4 15:55:38 2023]\u001b[0m\n",
      "\u001b[32mlocalrule all:\n",
      "    input: structure_file.data, elastic_matrix.data\n",
      "    jobid: 0\n",
      "    reason: Input files updated by another job: structure_file.data, elastic_matrix.data\n",
      "    resources: tmpdir=/tmp\u001b[0m\n",
      "\u001b[32m\u001b[0m\n",
      "\u001b[32m[Fri Aug  4 15:55:38 2023]\u001b[0m\n",
      "\u001b[32mFinished job 0.\u001b[0m\n",
      "\u001b[32m3 of 3 steps (100%) done\u001b[0m\n",
      "\u001b[33mComplete log: .snakemake/log/2023-08-04T155442.847387.snakemake.log\u001b[0m\n"
     ]
    }
   ],
   "source": [
    "! snakemake --cores 1"
   ]
  },
  {
   "cell_type": "markdown",
   "id": "c21dfc87-4264-4f63-98e7-d4d2d2a51f10",
   "metadata": {},
   "source": [
    "After execution, a report can be compiled"
   ]
  },
  {
   "cell_type": "code",
   "execution_count": 4,
   "id": "6e98c11a-58d4-4d1a-8e98-f289bf89bc1b",
   "metadata": {},
   "outputs": [
    {
     "name": "stdout",
     "output_type": "stream",
     "text": [
      "\u001b[33mBuilding DAG of jobs...\u001b[0m\n",
      "\u001b[33mCreating report...\u001b[0m\n",
      "\u001b[33mLoading script code for rule create_structure\u001b[0m\n",
      "\u001b[33mLoading script code for rule calculate_elastic_matrix\u001b[0m\n",
      "\u001b[33mDownloading resources and rendering HTML.\u001b[0m\n",
      "\u001b[33mReport created: report.html.\u001b[0m\n"
     ]
    }
   ],
   "source": [
    "! snakemake --report report.html"
   ]
  },
  {
   "cell_type": "markdown",
   "id": "54ac0aa5-7360-4c7a-a69e-753b6f710172",
   "metadata": {},
   "source": [
    "You can view the report [here](../_static/report_snakemake.html)"
   ]
  }
 ],
 "metadata": {
  "kernelspec": {
   "display_name": "Python 3 (ipykernel)",
   "language": "python",
   "name": "python3"
  },
  "language_info": {
   "codemirror_mode": {
    "name": "ipython",
    "version": 3
   },
   "file_extension": ".py",
   "mimetype": "text/x-python",
   "name": "python",
   "nbconvert_exporter": "python",
   "pygments_lexer": "ipython3",
   "version": "3.10.12"
  }
 },
 "nbformat": 4,
 "nbformat_minor": 5
}
