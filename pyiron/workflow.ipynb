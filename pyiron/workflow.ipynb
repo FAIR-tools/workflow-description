{
 "cells": [
  {
   "cell_type": "markdown",
   "id": "f2e8de81-5d00-41d8-a8e4-0f6c101872cc",
   "metadata": {},
   "source": [
    "# pyiron"
   ]
  },
  {
   "cell_type": "code",
   "execution_count": 1,
   "id": "0c181f7c-95a2-4d86-89c6-a3c8f5e56085",
   "metadata": {},
   "outputs": [
    {
     "data": {
      "application/vnd.jupyter.widget-view+json": {
       "model_id": "cacf9672a2be44bab3f81bad00923e03",
       "version_major": 2,
       "version_minor": 0
      },
      "text/plain": []
     },
     "metadata": {},
     "output_type": "display_data"
    }
   ],
   "source": [
    "import matplotlib.pyplot as plt\n",
    "import numpy as np\n",
    "import random\n",
    "from pyiron import Project"
   ]
  },
  {
   "cell_type": "code",
   "execution_count": 2,
   "id": "37579c3f-f715-48e3-8fd7-1b42d096412a",
   "metadata": {},
   "outputs": [],
   "source": [
    "pr = Project(\"elastic_constant\")"
   ]
  },
  {
   "cell_type": "code",
   "execution_count": 3,
   "id": "d866c0f8-cb0c-4d18-a605-a621140a9ef8",
   "metadata": {},
   "outputs": [],
   "source": [
    "element = 'Al'"
   ]
  },
  {
   "cell_type": "code",
   "execution_count": 4,
   "id": "f8dcd1fe-ec25-42cd-a079-ca221386f7ca",
   "metadata": {},
   "outputs": [],
   "source": [
    "structure = pr.create.structure.bulk(element, \n",
    "                                 cubic=True)"
   ]
  },
  {
   "cell_type": "code",
   "execution_count": 5,
   "id": "e5062051-36dd-4ecc-a1a9-30d57f326085",
   "metadata": {},
   "outputs": [
    {
     "name": "stderr",
     "output_type": "stream",
     "text": [
      "2023-08-07 09:12:18,890 - pyiron_log - WARNING - No HDF5 file found - remove database entry and create new job! elastic_job\n"
     ]
    },
    {
     "name": "stdout",
     "output_type": "stream",
     "text": [
      "The job elastic_job was saved and received the ID: 839\n",
      "The job s_e_0 was saved and received the ID: 840\n",
      "The job s_01_e_m0_00100 was saved and received the ID: 841\n",
      "The job s_01_e_m0_00050 was saved and received the ID: 842\n",
      "The job s_01_e_0_00050 was saved and received the ID: 843\n",
      "The job s_01_e_0_00100 was saved and received the ID: 844\n",
      "The job s_08_e_m0_00100 was saved and received the ID: 845\n",
      "The job s_08_e_m0_00050 was saved and received the ID: 846\n",
      "The job s_08_e_0_00050 was saved and received the ID: 847\n",
      "The job s_08_e_0_00100 was saved and received the ID: 848\n",
      "The job s_23_e_m0_00100 was saved and received the ID: 849\n",
      "The job s_23_e_m0_00050 was saved and received the ID: 850\n",
      "The job s_23_e_0_00050 was saved and received the ID: 851\n",
      "The job s_23_e_0_00100 was saved and received the ID: 852\n"
     ]
    }
   ],
   "source": [
    "job = pr.create.job.Lammps(job_name=\"lammps_job\")\n",
    "job.structure = structure\n",
    "job.potential = '2009--Mendelev-M-I--Al-Mg--LAMMPS--ipr1'\n",
    "job.calc_minimize(pressure=0)\n",
    "elastic_job = job.create_job(pr.job_type.ElasticMatrixJob, \"elastic_job\")\n",
    "elastic_job.input[\"eps_range\"] = 0.001\n",
    "elastic_job.run()"
   ]
  },
  {
   "cell_type": "code",
   "execution_count": 6,
   "id": "d68b3713-8fae-4a75-bf30-defd0532f887",
   "metadata": {},
   "outputs": [],
   "source": [
    "elastic_matrix = elastic_job[\"output/elasticmatrix\"][\"C\"]"
   ]
  },
  {
   "cell_type": "code",
   "execution_count": 7,
   "id": "dcc1e9d2-eaf0-4ab0-bda1-af812640f840",
   "metadata": {},
   "outputs": [
    {
     "data": {
      "text/plain": [
       "array([[105.90187899,  60.85060019,  60.85060019,   0.        ,\n",
       "          0.        ,   0.        ],\n",
       "       [ 60.85060019, 105.90187899,  60.85060019,   0.        ,\n",
       "          0.        ,   0.        ],\n",
       "       [ 60.85060019,  60.85060019, 105.90187899,   0.        ,\n",
       "          0.        ,   0.        ],\n",
       "       [  0.        ,   0.        ,   0.        ,  31.46945444,\n",
       "          0.        ,   0.        ],\n",
       "       [  0.        ,   0.        ,   0.        ,   0.        ,\n",
       "         31.46945444,   0.        ],\n",
       "       [  0.        ,   0.        ,   0.        ,   0.        ,\n",
       "          0.        ,  31.46945444]])"
      ]
     },
     "execution_count": 7,
     "metadata": {},
     "output_type": "execute_result"
    }
   ],
   "source": [
    "elastic_matrix"
   ]
  }
 ],
 "metadata": {
  "kernelspec": {
   "display_name": "Python 3 (ipykernel)",
   "language": "python",
   "name": "python3"
  },
  "language_info": {
   "codemirror_mode": {
    "name": "ipython",
    "version": 3
   },
   "file_extension": ".py",
   "mimetype": "text/x-python",
   "name": "python",
   "nbconvert_exporter": "python",
   "pygments_lexer": "ipython3",
   "version": "3.10.12"
  }
 },
 "nbformat": 4,
 "nbformat_minor": 5
}
